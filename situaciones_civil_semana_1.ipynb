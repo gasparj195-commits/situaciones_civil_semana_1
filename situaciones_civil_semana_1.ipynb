{
  "nbformat": 4,
  "nbformat_minor": 0,
  "metadata": {
    "colab": {
      "provenance": [],
      "authorship_tag": "ABX9TyNEqdh+WTkHCDZfmeYMV2/K",
      "include_colab_link": true
    },
    "kernelspec": {
      "name": "python3",
      "display_name": "Python 3"
    },
    "language_info": {
      "name": "python"
    }
  },
  "cells": [
    {
      "cell_type": "markdown",
      "metadata": {
        "id": "view-in-github",
        "colab_type": "text"
      },
      "source": [
        "<a href=\"https://colab.research.google.com/github/gasparj195-commits/situaciones_civil_semana_1/blob/main/situaciones_civil_semana_1.ipynb\" target=\"_parent\"><img src=\"https://colab.research.google.com/assets/colab-badge.svg\" alt=\"Open In Colab\"/></a>"
      ]
    },
    {
      "cell_type": "code",
      "execution_count": null,
      "metadata": {
        "id": "P43mu7l-HOWo"
      },
      "outputs": [],
      "source": []
    },
    {
      "cell_type": "markdown",
      "source": [
        " Situación de Interés en Ingeniería Agrícola ￿:\n",
        "\n",
        "  Un agricultor necesita saber cuántos kilogramos\n",
        " de semilla de maíz debe comprar para sembrar un lote rectangular. Conoce la densidad de siembra recomendada (kg por hectárea) y las dimensiones del lote (largo y ancho en metros)."
      ],
      "metadata": {
        "id": "ecgtiUgUHrtA"
      }
    },
    {
      "cell_type": "code",
      "source": [
        "# Cálculo de Semillas\n",
        "#  1. Saludar al usuario y explicar qué hace el programa.\n",
        "print(\"Bienvenido al calculo de semillas \")\n",
        "# 2. Pedir al usuario que ingrese el largo del lote en metros (input sin conversion).\n",
        "largo = input(\"Ingrese el largo del lote en metros: \")\n",
        "# 3. Pedir el ancho del lote en metros (input).\n",
        "ancho = input(\"Ingrese el ancho del lote en metros: \")\n",
        "\n",
        "# 4. Pedir la densidad de siembra en kg/hectárea (input).\n",
        "densidad = input(\"Ingrese la densidad de siembra en kg/hectárea: \")\n",
        "\n",
        "# 5. Convertir las entradas de texto a números decimales (float).\n",
        "largo = float(largo)\n",
        "ancho = float(ancho)\n",
        "densidad = float(densidad)\n",
        "\n",
        "#6. Calcular el área en metros cuadrados (largo * ancho).\n",
        "area=largo*ancho\n",
        "\n",
        "# 7. Convertir el área a hectáreas (1 hectárea = 10,000 m²).\n",
        "area= area / 10000\n",
        "\n",
        "# 8. Calcular la cantidad total de semilla (área en hectáreas * densidad)\n",
        "semillas =area * densidad\n",
        "\n",
        "# 9. Mostrar el resultado final al usuario de forma clara (print).\n",
        "print(\"la cantidad de semillas es:\",semillas,\"Kg\")\n"
      ],
      "metadata": {
        "colab": {
          "base_uri": "https://localhost:8080/",
          "height": 273
        },
        "id": "fetir-WhIJyn",
        "outputId": "1fc6b819-2cd9-4df9-801b-d8e07908f1cd"
      },
      "execution_count": 2,
      "outputs": [
        {
          "name": "stdout",
          "output_type": "stream",
          "text": [
            "Bienvenido al calculo de semillas \n",
            "Ingrese el largo del lote en metros: 10\n",
            "Ingrese la densidad de siembra en kg/hectárea: 100\n"
          ]
        },
        {
          "output_type": "error",
          "ename": "NameError",
          "evalue": "name 'ancho' is not defined",
          "traceback": [
            "\u001b[0;31m---------------------------------------------------------------------------\u001b[0m",
            "\u001b[0;31mNameError\u001b[0m                                 Traceback (most recent call last)",
            "\u001b[0;32m/tmp/ipython-input-123309918.py\u001b[0m in \u001b[0;36m<cell line: 0>\u001b[0;34m()\u001b[0m\n\u001b[1;32m     11\u001b[0m \u001b[0;31m# 5. Convertir las entradas de texto a números decimales (float).\u001b[0m\u001b[0;34m\u001b[0m\u001b[0;34m\u001b[0m\u001b[0m\n\u001b[1;32m     12\u001b[0m \u001b[0mlargo\u001b[0m \u001b[0;34m=\u001b[0m \u001b[0mfloat\u001b[0m\u001b[0;34m(\u001b[0m\u001b[0mlargo\u001b[0m\u001b[0;34m)\u001b[0m\u001b[0;34m\u001b[0m\u001b[0;34m\u001b[0m\u001b[0m\n\u001b[0;32m---> 13\u001b[0;31m \u001b[0mancho\u001b[0m \u001b[0;34m=\u001b[0m \u001b[0mfloat\u001b[0m\u001b[0;34m(\u001b[0m\u001b[0mancho\u001b[0m\u001b[0;34m)\u001b[0m\u001b[0;34m\u001b[0m\u001b[0;34m\u001b[0m\u001b[0m\n\u001b[0m\u001b[1;32m     14\u001b[0m \u001b[0mdensidad\u001b[0m \u001b[0;34m=\u001b[0m \u001b[0mfloat\u001b[0m\u001b[0;34m(\u001b[0m\u001b[0mdensidad\u001b[0m\u001b[0;34m)\u001b[0m\u001b[0;34m\u001b[0m\u001b[0;34m\u001b[0m\u001b[0m\n\u001b[1;32m     15\u001b[0m \u001b[0;34m\u001b[0m\u001b[0m\n",
            "\u001b[0;31mNameError\u001b[0m: name 'ancho' is not defined"
          ]
        }
      ]
    }
  ]
}